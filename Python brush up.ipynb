{
 "cells": [
  {
   "cell_type": "code",
   "execution_count": 3,
   "id": "7408b990",
   "metadata": {},
   "outputs": [
    {
     "data": {
      "text/plain": [
       "3.141592653589793"
      ]
     },
     "execution_count": 3,
     "metadata": {},
     "output_type": "execute_result"
    }
   ],
   "source": [
    "import math as mt\n",
    "mt.pi"
   ]
  },
  {
   "cell_type": "code",
   "execution_count": 4,
   "id": "ca93e035",
   "metadata": {},
   "outputs": [
    {
     "data": {
      "text/plain": [
       "523.5987755982989"
      ]
     },
     "execution_count": 4,
     "metadata": {},
     "output_type": "execute_result"
    }
   ],
   "source": [
    "r = 5\n",
    "(4/3)*mt.pi*(r**3)"
   ]
  },
  {
   "cell_type": "code",
   "execution_count": 5,
   "id": "31a89195",
   "metadata": {},
   "outputs": [],
   "source": [
    "book_price = 24.95\n",
    "bookstore_discount = (24.95/100)*40\n",
    "bookstore_price = book_price - bookstore_discount"
   ]
  },
  {
   "cell_type": "code",
   "execution_count": 6,
   "id": "e0a09f6b",
   "metadata": {},
   "outputs": [],
   "source": [
    "shipping_cost_for_first_copy = 3\n",
    "additional_copy = 0.04\n"
   ]
  },
  {
   "cell_type": "code",
   "execution_count": 7,
   "id": "7fd5c49e",
   "metadata": {},
   "outputs": [
    {
     "data": {
      "text/plain": [
       "14.969999999999999"
      ]
     },
     "execution_count": 7,
     "metadata": {},
     "output_type": "execute_result"
    }
   ],
   "source": [
    "bookstore_price"
   ]
  },
  {
   "cell_type": "code",
   "execution_count": 8,
   "id": "6b2b4845",
   "metadata": {},
   "outputs": [],
   "source": [
    "total_wholesale_cost=(bookstore_price*60)+3+(59*0.04)"
   ]
  },
  {
   "cell_type": "code",
   "execution_count": 9,
   "id": "c3c723c0",
   "metadata": {},
   "outputs": [
    {
     "data": {
      "text/plain": [
       "903.56"
      ]
     },
     "execution_count": 9,
     "metadata": {},
     "output_type": "execute_result"
    }
   ],
   "source": [
    "total_wholesale_cost"
   ]
  },
  {
   "cell_type": "code",
   "execution_count": 12,
   "id": "25f0ab29",
   "metadata": {},
   "outputs": [],
   "source": [
    "miles=(8/15)+3*(7/12)+8/15"
   ]
  },
  {
   "cell_type": "code",
   "execution_count": 13,
   "id": "d7c91621",
   "metadata": {},
   "outputs": [
    {
     "data": {
      "text/plain": [
       "2.8166666666666664"
      ]
     },
     "execution_count": 13,
     "metadata": {},
     "output_type": "execute_result"
    }
   ],
   "source": [
    "miles"
   ]
  },
  {
   "cell_type": "code",
   "execution_count": 33,
   "id": "95662b02",
   "metadata": {},
   "outputs": [],
   "source": [
    "def right_justify(s):\n",
    "\n",
    "    print(s.rjust(70))\n",
    "    \n",
    "    "
   ]
  },
  {
   "cell_type": "code",
   "execution_count": 35,
   "id": "a138aa2b",
   "metadata": {},
   "outputs": [
    {
     "name": "stdout",
     "output_type": "stream",
     "text": [
      "                                                                     s\n"
     ]
    }
   ],
   "source": [
    "right_justify('s')"
   ]
  },
  {
   "cell_type": "code",
   "execution_count": 39,
   "id": "6b99eb79",
   "metadata": {},
   "outputs": [
    {
     "name": "stdout",
     "output_type": "stream",
     "text": [
      "+ "
     ]
    },
    {
     "ename": "NameError",
     "evalue": "name 'do_four' is not defined",
     "output_type": "error",
     "traceback": [
      "\u001b[1;31m---------------------------------------------------------------------------\u001b[0m",
      "\u001b[1;31mNameError\u001b[0m                                 Traceback (most recent call last)",
      "\u001b[1;32m~\\AppData\\Local\\Temp\\ipykernel_4936\\1398316518.py\u001b[0m in \u001b[0;36m<module>\u001b[1;34m\u001b[0m\n\u001b[0;32m     40\u001b[0m     \u001b[0mone_four_one\u001b[0m\u001b[1;33m(\u001b[0m\u001b[0mprint4beams\u001b[0m\u001b[1;33m,\u001b[0m \u001b[0mprint_row\u001b[0m\u001b[1;33m,\u001b[0m \u001b[0mnothing\u001b[0m\u001b[1;33m)\u001b[0m\u001b[1;33m\u001b[0m\u001b[1;33m\u001b[0m\u001b[0m\n\u001b[0;32m     41\u001b[0m \u001b[1;33m\u001b[0m\u001b[0m\n\u001b[1;32m---> 42\u001b[1;33m \u001b[0mprint_grid\u001b[0m\u001b[1;33m(\u001b[0m\u001b[1;33m)\u001b[0m\u001b[1;33m\u001b[0m\u001b[1;33m\u001b[0m\u001b[0m\n\u001b[0m\u001b[0;32m     43\u001b[0m \u001b[1;33m\u001b[0m\u001b[0m\n",
      "\u001b[1;32m~\\AppData\\Local\\Temp\\ipykernel_4936\\1398316518.py\u001b[0m in \u001b[0;36mprint_grid\u001b[1;34m()\u001b[0m\n\u001b[0;32m     38\u001b[0m \u001b[1;33m\u001b[0m\u001b[0m\n\u001b[0;32m     39\u001b[0m \u001b[1;32mdef\u001b[0m \u001b[0mprint_grid\u001b[0m\u001b[1;33m(\u001b[0m\u001b[1;33m)\u001b[0m\u001b[1;33m:\u001b[0m\u001b[1;33m\u001b[0m\u001b[1;33m\u001b[0m\u001b[0m\n\u001b[1;32m---> 40\u001b[1;33m     \u001b[0mone_four_one\u001b[0m\u001b[1;33m(\u001b[0m\u001b[0mprint4beams\u001b[0m\u001b[1;33m,\u001b[0m \u001b[0mprint_row\u001b[0m\u001b[1;33m,\u001b[0m \u001b[0mnothing\u001b[0m\u001b[1;33m)\u001b[0m\u001b[1;33m\u001b[0m\u001b[1;33m\u001b[0m\u001b[0m\n\u001b[0m\u001b[0;32m     41\u001b[0m \u001b[1;33m\u001b[0m\u001b[0m\n\u001b[0;32m     42\u001b[0m \u001b[0mprint_grid\u001b[0m\u001b[1;33m(\u001b[0m\u001b[1;33m)\u001b[0m\u001b[1;33m\u001b[0m\u001b[1;33m\u001b[0m\u001b[0m\n",
      "\u001b[1;32m~\\AppData\\Local\\Temp\\ipykernel_4936\\1398316518.py\u001b[0m in \u001b[0;36mone_four_one\u001b[1;34m(f, g, h)\u001b[0m\n\u001b[0;32m      1\u001b[0m \u001b[1;32mdef\u001b[0m \u001b[0mone_four_one\u001b[0m\u001b[1;33m(\u001b[0m\u001b[0mf\u001b[0m\u001b[1;33m,\u001b[0m \u001b[0mg\u001b[0m\u001b[1;33m,\u001b[0m \u001b[0mh\u001b[0m\u001b[1;33m)\u001b[0m\u001b[1;33m:\u001b[0m\u001b[1;33m\u001b[0m\u001b[1;33m\u001b[0m\u001b[0m\n\u001b[1;32m----> 2\u001b[1;33m     \u001b[0mf\u001b[0m\u001b[1;33m(\u001b[0m\u001b[1;33m)\u001b[0m\u001b[1;33m\u001b[0m\u001b[1;33m\u001b[0m\u001b[0m\n\u001b[0m\u001b[0;32m      3\u001b[0m     \u001b[0mdo_four\u001b[0m\u001b[1;33m(\u001b[0m\u001b[0mg\u001b[0m\u001b[1;33m)\u001b[0m\u001b[1;33m\u001b[0m\u001b[1;33m\u001b[0m\u001b[0m\n\u001b[0;32m      4\u001b[0m     \u001b[0mh\u001b[0m\u001b[1;33m(\u001b[0m\u001b[1;33m)\u001b[0m\u001b[1;33m\u001b[0m\u001b[1;33m\u001b[0m\u001b[0m\n\u001b[0;32m      5\u001b[0m \u001b[1;33m\u001b[0m\u001b[0m\n",
      "\u001b[1;32m~\\AppData\\Local\\Temp\\ipykernel_4936\\1398316518.py\u001b[0m in \u001b[0;36mprint4beams\u001b[1;34m()\u001b[0m\n\u001b[0;32m     29\u001b[0m \u001b[1;33m\u001b[0m\u001b[0m\n\u001b[0;32m     30\u001b[0m \u001b[1;32mdef\u001b[0m \u001b[0mprint4beams\u001b[0m\u001b[1;33m(\u001b[0m\u001b[1;33m)\u001b[0m\u001b[1;33m:\u001b[0m\u001b[1;33m\u001b[0m\u001b[1;33m\u001b[0m\u001b[0m\n\u001b[1;32m---> 31\u001b[1;33m     \u001b[0mone_four_one\u001b[0m\u001b[1;33m(\u001b[0m\u001b[0mprint_plus\u001b[0m\u001b[1;33m,\u001b[0m \u001b[0mprint1beam\u001b[0m\u001b[1;33m,\u001b[0m \u001b[0mprint_end\u001b[0m\u001b[1;33m)\u001b[0m\u001b[1;33m\u001b[0m\u001b[1;33m\u001b[0m\u001b[0m\n\u001b[0m\u001b[0;32m     32\u001b[0m \u001b[1;33m\u001b[0m\u001b[0m\n\u001b[0;32m     33\u001b[0m \u001b[1;32mdef\u001b[0m \u001b[0mprint4posts\u001b[0m\u001b[1;33m(\u001b[0m\u001b[1;33m)\u001b[0m\u001b[1;33m:\u001b[0m\u001b[1;33m\u001b[0m\u001b[1;33m\u001b[0m\u001b[0m\n",
      "\u001b[1;32m~\\AppData\\Local\\Temp\\ipykernel_4936\\1398316518.py\u001b[0m in \u001b[0;36mone_four_one\u001b[1;34m(f, g, h)\u001b[0m\n\u001b[0;32m      1\u001b[0m \u001b[1;32mdef\u001b[0m \u001b[0mone_four_one\u001b[0m\u001b[1;33m(\u001b[0m\u001b[0mf\u001b[0m\u001b[1;33m,\u001b[0m \u001b[0mg\u001b[0m\u001b[1;33m,\u001b[0m \u001b[0mh\u001b[0m\u001b[1;33m)\u001b[0m\u001b[1;33m:\u001b[0m\u001b[1;33m\u001b[0m\u001b[1;33m\u001b[0m\u001b[0m\n\u001b[0;32m      2\u001b[0m     \u001b[0mf\u001b[0m\u001b[1;33m(\u001b[0m\u001b[1;33m)\u001b[0m\u001b[1;33m\u001b[0m\u001b[1;33m\u001b[0m\u001b[0m\n\u001b[1;32m----> 3\u001b[1;33m     \u001b[0mdo_four\u001b[0m\u001b[1;33m(\u001b[0m\u001b[0mg\u001b[0m\u001b[1;33m)\u001b[0m\u001b[1;33m\u001b[0m\u001b[1;33m\u001b[0m\u001b[0m\n\u001b[0m\u001b[0;32m      4\u001b[0m     \u001b[0mh\u001b[0m\u001b[1;33m(\u001b[0m\u001b[1;33m)\u001b[0m\u001b[1;33m\u001b[0m\u001b[1;33m\u001b[0m\u001b[0m\n\u001b[0;32m      5\u001b[0m \u001b[1;33m\u001b[0m\u001b[0m\n",
      "\u001b[1;31mNameError\u001b[0m: name 'do_four' is not defined"
     ]
    }
   ],
   "source": [
    "def one_four_one(f, g, h):\n",
    "    f()\n",
    "    do_four(g)\n",
    "    h()\n",
    "\n",
    "def print_plus():\n",
    "    print('+', end=' ')\n",
    "\n",
    "def print_dash():\n",
    "    print('-', end=' ')\n",
    "\n",
    "def print_bar():\n",
    "    print('|', end=' ')\n",
    "\n",
    "def print_space():\n",
    "    print(' ', end=' ')\n",
    "\n",
    "def print_end():\n",
    "    print()\n",
    "\n",
    "def nothing():\n",
    "    \"do nothing\"\n",
    "\n",
    "def print1beam():\n",
    "    one_four_one(nothing, print_dash, print_plus)\n",
    "\n",
    "def print1post():\n",
    "    one_four_one(nothing, print_space, print_bar)\n",
    "\n",
    "def print4beams():\n",
    "    one_four_one(print_plus, print1beam, print_end)\n",
    "\n",
    "def print4posts():\n",
    "    one_four_one(print_bar, print1post, print_end)\n",
    "\n",
    "def print_row():\n",
    "    one_four_one(nothing, print4posts, print4beams)\n",
    "\n",
    "def print_grid():\n",
    "    one_four_one(print4beams, print_row, nothing)\n",
    "\n",
    "print_grid()\n",
    "    "
   ]
  },
  {
   "cell_type": "code",
   "execution_count": 40,
   "id": "8f65bdff",
   "metadata": {},
   "outputs": [],
   "source": [
    "def countdown(n):\n",
    "    if n<= 0:\n",
    "        print(\"blame\")\n",
    "    else:\n",
    "        print(n)\n",
    "        countdown(n-1)"
   ]
  },
  {
   "cell_type": "code",
   "execution_count": 41,
   "id": "69a4b662",
   "metadata": {},
   "outputs": [
    {
     "name": "stdout",
     "output_type": "stream",
     "text": [
      "6\n",
      "5\n",
      "4\n",
      "3\n",
      "2\n",
      "1\n",
      "blame\n"
     ]
    }
   ],
   "source": [
    "countdown(6)"
   ]
  },
  {
   "cell_type": "code",
   "execution_count": 43,
   "id": "fbf95e44",
   "metadata": {},
   "outputs": [],
   "source": [
    "def fermat():\n",
    "    a = int(input('Enter the number: '))\n",
    "    b = int(input('Enter the number: '))\n",
    "    c = int(input('Enter the number: '))\n",
    "    n = int(input('Enter the number: '))\n",
    "    d=(a**n)+(b**n)\n",
    "    e=c**n\n",
    "    if n>2 and d == e:\n",
    "        return \"Fermat was wrong\"\n",
    "    else:\n",
    "        return \"That does not work\"\n",
    "    \n",
    "    \n",
    "    "
   ]
  },
  {
   "cell_type": "code",
   "execution_count": 46,
   "id": "1c9b90ac",
   "metadata": {},
   "outputs": [
    {
     "name": "stdout",
     "output_type": "stream",
     "text": [
      "Enter the number: 3\n",
      "Enter the number: 4\n",
      "Enter the number: 6\n",
      "Enter the number: 34\n"
     ]
    },
    {
     "data": {
      "text/plain": [
       "'That does not work'"
      ]
     },
     "execution_count": 46,
     "metadata": {},
     "output_type": "execute_result"
    }
   ],
   "source": [
    "fermat()"
   ]
  },
  {
   "cell_type": "code",
   "execution_count": 47,
   "id": "079a301a",
   "metadata": {},
   "outputs": [
    {
     "name": "stdout",
     "output_type": "stream",
     "text": [
      "Enter the number: 1\n",
      "Enter the number: 1\n",
      "Enter the number: 1\n",
      "Enter the number: 1\n"
     ]
    },
    {
     "data": {
      "text/plain": [
       "'That does not work'"
      ]
     },
     "execution_count": 47,
     "metadata": {},
     "output_type": "execute_result"
    }
   ],
   "source": [
    "fermat()"
   ]
  },
  {
   "cell_type": "code",
   "execution_count": null,
   "id": "36ee070c",
   "metadata": {},
   "outputs": [],
   "source": [
    "def is_triangle(a,b,c):\n",
    "    if (a>b+c) or (b>a+c) or (c>a+b):\n",
    "        return \"No\"\n",
    "    elif (a==b+c) or (b==a+c) or (c==a+b):\n",
    "        return \"Yes\"\n",
    "        \n"
   ]
  },
  {
   "cell_type": "code",
   "execution_count": 3,
   "id": "f3eb765c",
   "metadata": {},
   "outputs": [
    {
     "name": "stdout",
     "output_type": "stream",
     "text": [
      "6\n"
     ]
    }
   ],
   "source": [
    "def recurse(n, s):\n",
    "    if n==0:\n",
    "        print(s)\n",
    "    else:\n",
    "        recurse(n-1,n+s)\n",
    "        \n",
    "        \n",
    "recurse(3,0)"
   ]
  },
  {
   "cell_type": "code",
   "execution_count": 5,
   "id": "55cc8f24",
   "metadata": {},
   "outputs": [],
   "source": [
    "def values(x,y):\n",
    "    if x>y:\n",
    "        return 1\n",
    "    elif x==y:\n",
    "        return 0\n",
    "    else:\n",
    "        return -1"
   ]
  },
  {
   "cell_type": "code",
   "execution_count": 8,
   "id": "3d6f4851",
   "metadata": {},
   "outputs": [
    {
     "data": {
      "text/plain": [
       "1"
      ]
     },
     "execution_count": 8,
     "metadata": {},
     "output_type": "execute_result"
    }
   ],
   "source": [
    "values(3,2)"
   ]
  },
  {
   "cell_type": "code",
   "execution_count": 9,
   "id": "46614772",
   "metadata": {},
   "outputs": [],
   "source": [
    "#hypotenuse of a triangle\n",
    "import math as mt\n",
    "# c**2 = a**2 + b**2\n"
   ]
  },
  {
   "cell_type": "code",
   "execution_count": 10,
   "id": "cfe1b359",
   "metadata": {},
   "outputs": [],
   "source": [
    "a = 2\n",
    "b= 3\n",
    "\n",
    "c = mt.sqrt(a**2+b**2)"
   ]
  },
  {
   "cell_type": "code",
   "execution_count": 11,
   "id": "c841a41c",
   "metadata": {},
   "outputs": [
    {
     "data": {
      "text/plain": [
       "3.605551275463989"
      ]
     },
     "execution_count": 11,
     "metadata": {},
     "output_type": "execute_result"
    }
   ],
   "source": [
    "c"
   ]
  },
  {
   "cell_type": "code",
   "execution_count": 14,
   "id": "b324fb6c",
   "metadata": {},
   "outputs": [
    {
     "data": {
      "text/plain": [
       "3.605551275463989"
      ]
     },
     "execution_count": 14,
     "metadata": {},
     "output_type": "execute_result"
    }
   ],
   "source": [
    "def hypotenuse(x,y):\n",
    "    z=mt.sqrt((x**2) + (y**2))\n",
    "    return z\n",
    "\n",
    "hypotenuse(2,3)\n",
    "    "
   ]
  },
  {
   "cell_type": "code",
   "execution_count": 15,
   "id": "754ec5bf",
   "metadata": {},
   "outputs": [
    {
     "data": {
      "text/plain": [
       "0.0"
      ]
     },
     "execution_count": 15,
     "metadata": {},
     "output_type": "execute_result"
    }
   ],
   "source": [
    "hypotenuse(0,0)"
   ]
  },
  {
   "cell_type": "code",
   "execution_count": 16,
   "id": "f80e8f91",
   "metadata": {},
   "outputs": [
    {
     "data": {
      "text/plain": [
       "9.055385138137417"
      ]
     },
     "execution_count": 16,
     "metadata": {},
     "output_type": "execute_result"
    }
   ],
   "source": [
    "hypotenuse(-1,9)"
   ]
  },
  {
   "cell_type": "code",
   "execution_count": 23,
   "id": "f7dab047",
   "metadata": {},
   "outputs": [
    {
     "name": "stdout",
     "output_type": "stream",
     "text": [
      "6\n"
     ]
    }
   ],
   "source": [
    "# Write a Python Program to Find the Factorial of a Number?\n",
    "\n",
    "# 5 factorial means 5*4*3*2*1\n",
    "\n",
    "a = int(input())\n",
    "\n",
    "range(a,1,-1)\n",
    "\n",
    "fact=list(range(a,0,-1))"
   ]
  },
  {
   "cell_type": "code",
   "execution_count": 25,
   "id": "d432d6b9",
   "metadata": {},
   "outputs": [
    {
     "name": "stdout",
     "output_type": "stream",
     "text": [
      "5\n",
      "[5, 4, 3, 2, 1]\n"
     ]
    }
   ],
   "source": [
    "a = int(input())\n",
    "\n",
    "range(a,1,-1)\n",
    "\n",
    "fact=list(range(a,0,-1))\n",
    "print(fact)"
   ]
  },
  {
   "cell_type": "code",
   "execution_count": 32,
   "id": "09f1a81e",
   "metadata": {},
   "outputs": [
    {
     "name": "stdout",
     "output_type": "stream",
     "text": [
      "[5, 4, 3, 2, 1, 5, 4, 3, 2, 1, 5, 4, 3, 2, 1, 5, 4, 3, 2, 1]\n",
      "[5, 4, 3, 2, 1, 5, 4, 3, 2, 1, 5, 4, 3, 2, 1, 5, 4, 3, 2, 1]\n",
      "[5, 4, 3, 2, 1, 5, 4, 3, 2, 1, 5, 4, 3, 2, 1, 5, 4, 3, 2, 1]\n",
      "[5, 4, 3, 2, 1, 5, 4, 3, 2, 1, 5, 4, 3, 2, 1, 5, 4, 3, 2, 1]\n",
      "[5, 4, 3, 2, 1, 5, 4, 3, 2, 1, 5, 4, 3, 2, 1, 5, 4, 3, 2, 1]\n"
     ]
    }
   ],
   "source": [
    "x=0\n",
    "for num in fact:\n",
    "    faacto = fact * fact[x+1]\n",
    "    print(faacto)\n",
    "    "
   ]
  },
  {
   "cell_type": "code",
   "execution_count": 28,
   "id": "bff08ecd",
   "metadata": {},
   "outputs": [
    {
     "data": {
      "text/plain": [
       "5"
      ]
     },
     "execution_count": 28,
     "metadata": {},
     "output_type": "execute_result"
    }
   ],
   "source": [
    "fact[0]"
   ]
  },
  {
   "cell_type": "code",
   "execution_count": null,
   "id": "1b67ad5b",
   "metadata": {},
   "outputs": [],
   "source": []
  }
 ],
 "metadata": {
  "kernelspec": {
   "display_name": "Python 3 (ipykernel)",
   "language": "python",
   "name": "python3"
  },
  "language_info": {
   "codemirror_mode": {
    "name": "ipython",
    "version": 3
   },
   "file_extension": ".py",
   "mimetype": "text/x-python",
   "name": "python",
   "nbconvert_exporter": "python",
   "pygments_lexer": "ipython3",
   "version": "3.9.13"
  }
 },
 "nbformat": 4,
 "nbformat_minor": 5
}
